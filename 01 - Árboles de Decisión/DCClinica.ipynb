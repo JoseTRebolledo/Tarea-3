{
  "cells": [
    {
      "cell_type": "code",
      "execution_count": null,
      "metadata": {
        "id": "LqveFWjJRg8P"
      },
      "outputs": [],
      "source": [
        "import numpy as np\n",
        "import os\n",
        "import pandas as pd\n",
        "\n",
        "random_state = 19625375\n",
        "\n",
        "np.random.seed(random_state) # Pon tu número de alumno como seed (J = 0)"
      ]
    },
    {
      "cell_type": "markdown",
      "metadata": {
        "id": "yt0_-vtZRg8T"
      },
      "source": [
        "Recuerda usar variables descriptivas durante toda la tarea"
      ]
    },
    {
      "cell_type": "markdown",
      "metadata": {
        "id": "5EU01xGIRg8V"
      },
      "source": [
        "# Actividad 1: Limpiando los datos"
      ]
    },
    {
      "cell_type": "code",
      "source": [
        "from google.colab import drive\n",
        "drive.mount('/content/drive')"
      ],
      "metadata": {
        "colab": {
          "base_uri": "https://localhost:8080/"
        },
        "id": "DTYqFI95S4ke",
        "outputId": "87c749a3-84bd-41d9-c7b3-ee2312e3feb4"
      },
      "execution_count": null,
      "outputs": [
        {
          "output_type": "stream",
          "name": "stdout",
          "text": [
            "Mounted at /content/drive\n"
          ]
        }
      ]
    },
    {
      "cell_type": "code",
      "execution_count": null,
      "metadata": {
        "colab": {
          "base_uri": "https://localhost:8080/",
          "height": 394
        },
        "id": "dQWw_zOVRg8W",
        "outputId": "8954511e-04a2-4353-87be-4b23017863b9"
      },
      "outputs": [
        {
          "output_type": "execute_result",
          "data": {
            "text/plain": [
              "            HighBP      HighChol     CholCheck           BMI        Smoker  \\\n",
              "count  70503.00000  70518.000000  70503.000000  70495.000000  70476.000000   \n",
              "mean       0.56338      0.525809      0.975193     29.858884      0.475169   \n",
              "std        0.49597      0.499337      0.155539      7.115343      0.499387   \n",
              "min        0.00000      0.000000      0.000000     12.000000      0.000000   \n",
              "25%        0.00000      0.000000      1.000000     25.000000      0.000000   \n",
              "50%        1.00000      1.000000      1.000000     29.000000      0.000000   \n",
              "75%        1.00000      1.000000      1.000000     33.000000      1.000000   \n",
              "max        1.00000      1.000000      1.000000     98.000000      1.000000   \n",
              "\n",
              "             Stroke  HeartDiseaseorAttack  PhysActivity        Fruits  \\\n",
              "count  70473.000000          70479.000000  70504.000000  70448.000000   \n",
              "mean       0.062208              0.147760      0.702953      0.611543   \n",
              "std        0.241535              0.354865      0.456961      0.487403   \n",
              "min        0.000000              0.000000      0.000000      0.000000   \n",
              "25%        0.000000              0.000000      0.000000      0.000000   \n",
              "50%        0.000000              0.000000      1.000000      1.000000   \n",
              "75%        0.000000              0.000000      1.000000      1.000000   \n",
              "max        1.000000              1.000000      1.000000      1.000000   \n",
              "\n",
              "            Veggies  ...   NoDocbcCost       GenHlth      MentHlth  \\\n",
              "count  70506.000000  ...  70501.000000  70521.000000  70480.000000   \n",
              "mean       0.788770  ...      0.093899      2.836985      3.752057   \n",
              "std        0.408184  ...      0.291691      1.113649      8.156671   \n",
              "min        0.000000  ...      0.000000      1.000000      0.000000   \n",
              "25%        1.000000  ...      0.000000      2.000000      0.000000   \n",
              "50%        1.000000  ...      0.000000      3.000000      0.000000   \n",
              "75%        1.000000  ...      0.000000      4.000000      2.000000   \n",
              "max        1.000000  ...      1.000000      5.000000     30.000000   \n",
              "\n",
              "           PhysHlth      DiffWalk           Age     Education        Income  \\\n",
              "count  70499.000000  70510.000000  70480.000000  70480.000000  70495.000000   \n",
              "mean       5.806905      0.252659      8.584251      4.921084      5.698574   \n",
              "std       10.059690      0.434540      2.851797      1.028938      2.175291   \n",
              "min        0.000000      0.000000      1.000000      1.000000      1.000000   \n",
              "25%        0.000000      0.000000      7.000000      4.000000      4.000000   \n",
              "50%        0.000000      0.000000      9.000000      5.000000      6.000000   \n",
              "75%        5.000000      1.000000     11.000000      6.000000      8.000000   \n",
              "max       30.000000      1.000000     13.000000      6.000000      8.000000   \n",
              "\n",
              "             Height        Weight  \n",
              "count  70486.000000  70490.000000  \n",
              "mean       1.700193     86.412796  \n",
              "std        0.050160     21.218232  \n",
              "min        1.480000     34.000000  \n",
              "25%        1.670000     72.000000  \n",
              "50%        1.700000     83.000000  \n",
              "75%        1.730000     96.000000  \n",
              "max        1.930000    294.000000  \n",
              "\n",
              "[8 rows x 22 columns]"
            ],
            "text/html": [
              "\n",
              "  <div id=\"df-39421376-30be-4c74-af05-c7ef0d78d71f\">\n",
              "    <div class=\"colab-df-container\">\n",
              "      <div>\n",
              "<style scoped>\n",
              "    .dataframe tbody tr th:only-of-type {\n",
              "        vertical-align: middle;\n",
              "    }\n",
              "\n",
              "    .dataframe tbody tr th {\n",
              "        vertical-align: top;\n",
              "    }\n",
              "\n",
              "    .dataframe thead th {\n",
              "        text-align: right;\n",
              "    }\n",
              "</style>\n",
              "<table border=\"1\" class=\"dataframe\">\n",
              "  <thead>\n",
              "    <tr style=\"text-align: right;\">\n",
              "      <th></th>\n",
              "      <th>HighBP</th>\n",
              "      <th>HighChol</th>\n",
              "      <th>CholCheck</th>\n",
              "      <th>BMI</th>\n",
              "      <th>Smoker</th>\n",
              "      <th>Stroke</th>\n",
              "      <th>HeartDiseaseorAttack</th>\n",
              "      <th>PhysActivity</th>\n",
              "      <th>Fruits</th>\n",
              "      <th>Veggies</th>\n",
              "      <th>...</th>\n",
              "      <th>NoDocbcCost</th>\n",
              "      <th>GenHlth</th>\n",
              "      <th>MentHlth</th>\n",
              "      <th>PhysHlth</th>\n",
              "      <th>DiffWalk</th>\n",
              "      <th>Age</th>\n",
              "      <th>Education</th>\n",
              "      <th>Income</th>\n",
              "      <th>Height</th>\n",
              "      <th>Weight</th>\n",
              "    </tr>\n",
              "  </thead>\n",
              "  <tbody>\n",
              "    <tr>\n",
              "      <th>count</th>\n",
              "      <td>70503.00000</td>\n",
              "      <td>70518.000000</td>\n",
              "      <td>70503.000000</td>\n",
              "      <td>70495.000000</td>\n",
              "      <td>70476.000000</td>\n",
              "      <td>70473.000000</td>\n",
              "      <td>70479.000000</td>\n",
              "      <td>70504.000000</td>\n",
              "      <td>70448.000000</td>\n",
              "      <td>70506.000000</td>\n",
              "      <td>...</td>\n",
              "      <td>70501.000000</td>\n",
              "      <td>70521.000000</td>\n",
              "      <td>70480.000000</td>\n",
              "      <td>70499.000000</td>\n",
              "      <td>70510.000000</td>\n",
              "      <td>70480.000000</td>\n",
              "      <td>70480.000000</td>\n",
              "      <td>70495.000000</td>\n",
              "      <td>70486.000000</td>\n",
              "      <td>70490.000000</td>\n",
              "    </tr>\n",
              "    <tr>\n",
              "      <th>mean</th>\n",
              "      <td>0.56338</td>\n",
              "      <td>0.525809</td>\n",
              "      <td>0.975193</td>\n",
              "      <td>29.858884</td>\n",
              "      <td>0.475169</td>\n",
              "      <td>0.062208</td>\n",
              "      <td>0.147760</td>\n",
              "      <td>0.702953</td>\n",
              "      <td>0.611543</td>\n",
              "      <td>0.788770</td>\n",
              "      <td>...</td>\n",
              "      <td>0.093899</td>\n",
              "      <td>2.836985</td>\n",
              "      <td>3.752057</td>\n",
              "      <td>5.806905</td>\n",
              "      <td>0.252659</td>\n",
              "      <td>8.584251</td>\n",
              "      <td>4.921084</td>\n",
              "      <td>5.698574</td>\n",
              "      <td>1.700193</td>\n",
              "      <td>86.412796</td>\n",
              "    </tr>\n",
              "    <tr>\n",
              "      <th>std</th>\n",
              "      <td>0.49597</td>\n",
              "      <td>0.499337</td>\n",
              "      <td>0.155539</td>\n",
              "      <td>7.115343</td>\n",
              "      <td>0.499387</td>\n",
              "      <td>0.241535</td>\n",
              "      <td>0.354865</td>\n",
              "      <td>0.456961</td>\n",
              "      <td>0.487403</td>\n",
              "      <td>0.408184</td>\n",
              "      <td>...</td>\n",
              "      <td>0.291691</td>\n",
              "      <td>1.113649</td>\n",
              "      <td>8.156671</td>\n",
              "      <td>10.059690</td>\n",
              "      <td>0.434540</td>\n",
              "      <td>2.851797</td>\n",
              "      <td>1.028938</td>\n",
              "      <td>2.175291</td>\n",
              "      <td>0.050160</td>\n",
              "      <td>21.218232</td>\n",
              "    </tr>\n",
              "    <tr>\n",
              "      <th>min</th>\n",
              "      <td>0.00000</td>\n",
              "      <td>0.000000</td>\n",
              "      <td>0.000000</td>\n",
              "      <td>12.000000</td>\n",
              "      <td>0.000000</td>\n",
              "      <td>0.000000</td>\n",
              "      <td>0.000000</td>\n",
              "      <td>0.000000</td>\n",
              "      <td>0.000000</td>\n",
              "      <td>0.000000</td>\n",
              "      <td>...</td>\n",
              "      <td>0.000000</td>\n",
              "      <td>1.000000</td>\n",
              "      <td>0.000000</td>\n",
              "      <td>0.000000</td>\n",
              "      <td>0.000000</td>\n",
              "      <td>1.000000</td>\n",
              "      <td>1.000000</td>\n",
              "      <td>1.000000</td>\n",
              "      <td>1.480000</td>\n",
              "      <td>34.000000</td>\n",
              "    </tr>\n",
              "    <tr>\n",
              "      <th>25%</th>\n",
              "      <td>0.00000</td>\n",
              "      <td>0.000000</td>\n",
              "      <td>1.000000</td>\n",
              "      <td>25.000000</td>\n",
              "      <td>0.000000</td>\n",
              "      <td>0.000000</td>\n",
              "      <td>0.000000</td>\n",
              "      <td>0.000000</td>\n",
              "      <td>0.000000</td>\n",
              "      <td>1.000000</td>\n",
              "      <td>...</td>\n",
              "      <td>0.000000</td>\n",
              "      <td>2.000000</td>\n",
              "      <td>0.000000</td>\n",
              "      <td>0.000000</td>\n",
              "      <td>0.000000</td>\n",
              "      <td>7.000000</td>\n",
              "      <td>4.000000</td>\n",
              "      <td>4.000000</td>\n",
              "      <td>1.670000</td>\n",
              "      <td>72.000000</td>\n",
              "    </tr>\n",
              "    <tr>\n",
              "      <th>50%</th>\n",
              "      <td>1.00000</td>\n",
              "      <td>1.000000</td>\n",
              "      <td>1.000000</td>\n",
              "      <td>29.000000</td>\n",
              "      <td>0.000000</td>\n",
              "      <td>0.000000</td>\n",
              "      <td>0.000000</td>\n",
              "      <td>1.000000</td>\n",
              "      <td>1.000000</td>\n",
              "      <td>1.000000</td>\n",
              "      <td>...</td>\n",
              "      <td>0.000000</td>\n",
              "      <td>3.000000</td>\n",
              "      <td>0.000000</td>\n",
              "      <td>0.000000</td>\n",
              "      <td>0.000000</td>\n",
              "      <td>9.000000</td>\n",
              "      <td>5.000000</td>\n",
              "      <td>6.000000</td>\n",
              "      <td>1.700000</td>\n",
              "      <td>83.000000</td>\n",
              "    </tr>\n",
              "    <tr>\n",
              "      <th>75%</th>\n",
              "      <td>1.00000</td>\n",
              "      <td>1.000000</td>\n",
              "      <td>1.000000</td>\n",
              "      <td>33.000000</td>\n",
              "      <td>1.000000</td>\n",
              "      <td>0.000000</td>\n",
              "      <td>0.000000</td>\n",
              "      <td>1.000000</td>\n",
              "      <td>1.000000</td>\n",
              "      <td>1.000000</td>\n",
              "      <td>...</td>\n",
              "      <td>0.000000</td>\n",
              "      <td>4.000000</td>\n",
              "      <td>2.000000</td>\n",
              "      <td>5.000000</td>\n",
              "      <td>1.000000</td>\n",
              "      <td>11.000000</td>\n",
              "      <td>6.000000</td>\n",
              "      <td>8.000000</td>\n",
              "      <td>1.730000</td>\n",
              "      <td>96.000000</td>\n",
              "    </tr>\n",
              "    <tr>\n",
              "      <th>max</th>\n",
              "      <td>1.00000</td>\n",
              "      <td>1.000000</td>\n",
              "      <td>1.000000</td>\n",
              "      <td>98.000000</td>\n",
              "      <td>1.000000</td>\n",
              "      <td>1.000000</td>\n",
              "      <td>1.000000</td>\n",
              "      <td>1.000000</td>\n",
              "      <td>1.000000</td>\n",
              "      <td>1.000000</td>\n",
              "      <td>...</td>\n",
              "      <td>1.000000</td>\n",
              "      <td>5.000000</td>\n",
              "      <td>30.000000</td>\n",
              "      <td>30.000000</td>\n",
              "      <td>1.000000</td>\n",
              "      <td>13.000000</td>\n",
              "      <td>6.000000</td>\n",
              "      <td>8.000000</td>\n",
              "      <td>1.930000</td>\n",
              "      <td>294.000000</td>\n",
              "    </tr>\n",
              "  </tbody>\n",
              "</table>\n",
              "<p>8 rows × 22 columns</p>\n",
              "</div>\n",
              "      <button class=\"colab-df-convert\" onclick=\"convertToInteractive('df-39421376-30be-4c74-af05-c7ef0d78d71f')\"\n",
              "              title=\"Convert this dataframe to an interactive table.\"\n",
              "              style=\"display:none;\">\n",
              "        \n",
              "  <svg xmlns=\"http://www.w3.org/2000/svg\" height=\"24px\"viewBox=\"0 0 24 24\"\n",
              "       width=\"24px\">\n",
              "    <path d=\"M0 0h24v24H0V0z\" fill=\"none\"/>\n",
              "    <path d=\"M18.56 5.44l.94 2.06.94-2.06 2.06-.94-2.06-.94-.94-2.06-.94 2.06-2.06.94zm-11 1L8.5 8.5l.94-2.06 2.06-.94-2.06-.94L8.5 2.5l-.94 2.06-2.06.94zm10 10l.94 2.06.94-2.06 2.06-.94-2.06-.94-.94-2.06-.94 2.06-2.06.94z\"/><path d=\"M17.41 7.96l-1.37-1.37c-.4-.4-.92-.59-1.43-.59-.52 0-1.04.2-1.43.59L10.3 9.45l-7.72 7.72c-.78.78-.78 2.05 0 2.83L4 21.41c.39.39.9.59 1.41.59.51 0 1.02-.2 1.41-.59l7.78-7.78 2.81-2.81c.8-.78.8-2.07 0-2.86zM5.41 20L4 18.59l7.72-7.72 1.47 1.35L5.41 20z\"/>\n",
              "  </svg>\n",
              "      </button>\n",
              "      \n",
              "  <style>\n",
              "    .colab-df-container {\n",
              "      display:flex;\n",
              "      flex-wrap:wrap;\n",
              "      gap: 12px;\n",
              "    }\n",
              "\n",
              "    .colab-df-convert {\n",
              "      background-color: #E8F0FE;\n",
              "      border: none;\n",
              "      border-radius: 50%;\n",
              "      cursor: pointer;\n",
              "      display: none;\n",
              "      fill: #1967D2;\n",
              "      height: 32px;\n",
              "      padding: 0 0 0 0;\n",
              "      width: 32px;\n",
              "    }\n",
              "\n",
              "    .colab-df-convert:hover {\n",
              "      background-color: #E2EBFA;\n",
              "      box-shadow: 0px 1px 2px rgba(60, 64, 67, 0.3), 0px 1px 3px 1px rgba(60, 64, 67, 0.15);\n",
              "      fill: #174EA6;\n",
              "    }\n",
              "\n",
              "    [theme=dark] .colab-df-convert {\n",
              "      background-color: #3B4455;\n",
              "      fill: #D2E3FC;\n",
              "    }\n",
              "\n",
              "    [theme=dark] .colab-df-convert:hover {\n",
              "      background-color: #434B5C;\n",
              "      box-shadow: 0px 1px 3px 1px rgba(0, 0, 0, 0.15);\n",
              "      filter: drop-shadow(0px 1px 2px rgba(0, 0, 0, 0.3));\n",
              "      fill: #FFFFFF;\n",
              "    }\n",
              "  </style>\n",
              "\n",
              "      <script>\n",
              "        const buttonEl =\n",
              "          document.querySelector('#df-39421376-30be-4c74-af05-c7ef0d78d71f button.colab-df-convert');\n",
              "        buttonEl.style.display =\n",
              "          google.colab.kernel.accessAllowed ? 'block' : 'none';\n",
              "\n",
              "        async function convertToInteractive(key) {\n",
              "          const element = document.querySelector('#df-39421376-30be-4c74-af05-c7ef0d78d71f');\n",
              "          const dataTable =\n",
              "            await google.colab.kernel.invokeFunction('convertToInteractive',\n",
              "                                                     [key], {});\n",
              "          if (!dataTable) return;\n",
              "\n",
              "          const docLinkHtml = 'Like what you see? Visit the ' +\n",
              "            '<a target=\"_blank\" href=https://colab.research.google.com/notebooks/data_table.ipynb>data table notebook</a>'\n",
              "            + ' to learn more about interactive tables.';\n",
              "          element.innerHTML = '';\n",
              "          dataTable['output_type'] = 'display_data';\n",
              "          await google.colab.output.renderOutput(dataTable, element);\n",
              "          const docLink = document.createElement('div');\n",
              "          docLink.innerHTML = docLinkHtml;\n",
              "          element.appendChild(docLink);\n",
              "        }\n",
              "      </script>\n",
              "    </div>\n",
              "  </div>\n",
              "  "
            ]
          },
          "metadata": {},
          "execution_count": 114
        }
      ],
      "source": [
        "# Escribe tu código aquí. Puedes crear todas las celdas que consideres necesario.\n",
        "# Recuerda entregar la nueva versión con los datos limpios en una nueva variable.\n",
        "diabetes = pd.read_csv(\"/content/drive/MyDrive/Colab Notebooks/IA/db_diabetes.csv\")\n",
        "diabetes.describe()"
      ]
    },
    {
      "cell_type": "code",
      "source": [
        "diabetes.head()"
      ],
      "metadata": {
        "colab": {
          "base_uri": "https://localhost:8080/",
          "height": 299
        },
        "id": "TIWsIiMzUG_D",
        "outputId": "99a1f61c-8936-442b-ac46-ca182704b3ee"
      },
      "execution_count": null,
      "outputs": [
        {
          "output_type": "execute_result",
          "data": {
            "text/plain": [
              "  Diabetes_binary  HighBP  HighChol  CholCheck   BMI  Smoker  Stroke  \\\n",
              "0     no_diabetes     1.0       0.0        1.0  26.0     0.0     0.0   \n",
              "1     no_diabetes     1.0       1.0        1.0  26.0     1.0     1.0   \n",
              "2     no_diabetes     0.0       0.0        1.0  26.0     0.0     0.0   \n",
              "3     no_diabetes     1.0       1.0        1.0  28.0     1.0     0.0   \n",
              "4     no_diabetes     0.0       0.0        1.0  29.0     1.0     0.0   \n",
              "\n",
              "   HeartDiseaseorAttack  PhysActivity  Fruits  ...  MentHlth  PhysHlth  \\\n",
              "0                   0.0           1.0     0.0  ...       5.0      30.0   \n",
              "1                   0.0           0.0     1.0  ...       0.0       0.0   \n",
              "2                   0.0           1.0     1.0  ...       0.0      10.0   \n",
              "3                   0.0           1.0     1.0  ...       0.0       3.0   \n",
              "4                   0.0           1.0     1.0  ...       0.0       0.0   \n",
              "\n",
              "   DiffWalk     Sex   Age  Education  Income  HairColor Height  Weight  \n",
              "0       0.0    male   4.0        6.0     8.0       grey   1.70    75.0  \n",
              "1       0.0    male  12.0        6.0     8.0     blonde   1.66    72.0  \n",
              "2       0.0    male  13.0        6.0     8.0      black   1.74    79.0  \n",
              "3       0.0    male  11.0        6.0     8.0        red   1.69    80.0  \n",
              "4       0.0  female   8.0        5.0     8.0      black   1.72    86.0  \n",
              "\n",
              "[5 rows x 25 columns]"
            ],
            "text/html": [
              "\n",
              "  <div id=\"df-aa47e498-762c-499b-b966-b72098b9f5e4\">\n",
              "    <div class=\"colab-df-container\">\n",
              "      <div>\n",
              "<style scoped>\n",
              "    .dataframe tbody tr th:only-of-type {\n",
              "        vertical-align: middle;\n",
              "    }\n",
              "\n",
              "    .dataframe tbody tr th {\n",
              "        vertical-align: top;\n",
              "    }\n",
              "\n",
              "    .dataframe thead th {\n",
              "        text-align: right;\n",
              "    }\n",
              "</style>\n",
              "<table border=\"1\" class=\"dataframe\">\n",
              "  <thead>\n",
              "    <tr style=\"text-align: right;\">\n",
              "      <th></th>\n",
              "      <th>Diabetes_binary</th>\n",
              "      <th>HighBP</th>\n",
              "      <th>HighChol</th>\n",
              "      <th>CholCheck</th>\n",
              "      <th>BMI</th>\n",
              "      <th>Smoker</th>\n",
              "      <th>Stroke</th>\n",
              "      <th>HeartDiseaseorAttack</th>\n",
              "      <th>PhysActivity</th>\n",
              "      <th>Fruits</th>\n",
              "      <th>...</th>\n",
              "      <th>MentHlth</th>\n",
              "      <th>PhysHlth</th>\n",
              "      <th>DiffWalk</th>\n",
              "      <th>Sex</th>\n",
              "      <th>Age</th>\n",
              "      <th>Education</th>\n",
              "      <th>Income</th>\n",
              "      <th>HairColor</th>\n",
              "      <th>Height</th>\n",
              "      <th>Weight</th>\n",
              "    </tr>\n",
              "  </thead>\n",
              "  <tbody>\n",
              "    <tr>\n",
              "      <th>0</th>\n",
              "      <td>no_diabetes</td>\n",
              "      <td>1.0</td>\n",
              "      <td>0.0</td>\n",
              "      <td>1.0</td>\n",
              "      <td>26.0</td>\n",
              "      <td>0.0</td>\n",
              "      <td>0.0</td>\n",
              "      <td>0.0</td>\n",
              "      <td>1.0</td>\n",
              "      <td>0.0</td>\n",
              "      <td>...</td>\n",
              "      <td>5.0</td>\n",
              "      <td>30.0</td>\n",
              "      <td>0.0</td>\n",
              "      <td>male</td>\n",
              "      <td>4.0</td>\n",
              "      <td>6.0</td>\n",
              "      <td>8.0</td>\n",
              "      <td>grey</td>\n",
              "      <td>1.70</td>\n",
              "      <td>75.0</td>\n",
              "    </tr>\n",
              "    <tr>\n",
              "      <th>1</th>\n",
              "      <td>no_diabetes</td>\n",
              "      <td>1.0</td>\n",
              "      <td>1.0</td>\n",
              "      <td>1.0</td>\n",
              "      <td>26.0</td>\n",
              "      <td>1.0</td>\n",
              "      <td>1.0</td>\n",
              "      <td>0.0</td>\n",
              "      <td>0.0</td>\n",
              "      <td>1.0</td>\n",
              "      <td>...</td>\n",
              "      <td>0.0</td>\n",
              "      <td>0.0</td>\n",
              "      <td>0.0</td>\n",
              "      <td>male</td>\n",
              "      <td>12.0</td>\n",
              "      <td>6.0</td>\n",
              "      <td>8.0</td>\n",
              "      <td>blonde</td>\n",
              "      <td>1.66</td>\n",
              "      <td>72.0</td>\n",
              "    </tr>\n",
              "    <tr>\n",
              "      <th>2</th>\n",
              "      <td>no_diabetes</td>\n",
              "      <td>0.0</td>\n",
              "      <td>0.0</td>\n",
              "      <td>1.0</td>\n",
              "      <td>26.0</td>\n",
              "      <td>0.0</td>\n",
              "      <td>0.0</td>\n",
              "      <td>0.0</td>\n",
              "      <td>1.0</td>\n",
              "      <td>1.0</td>\n",
              "      <td>...</td>\n",
              "      <td>0.0</td>\n",
              "      <td>10.0</td>\n",
              "      <td>0.0</td>\n",
              "      <td>male</td>\n",
              "      <td>13.0</td>\n",
              "      <td>6.0</td>\n",
              "      <td>8.0</td>\n",
              "      <td>black</td>\n",
              "      <td>1.74</td>\n",
              "      <td>79.0</td>\n",
              "    </tr>\n",
              "    <tr>\n",
              "      <th>3</th>\n",
              "      <td>no_diabetes</td>\n",
              "      <td>1.0</td>\n",
              "      <td>1.0</td>\n",
              "      <td>1.0</td>\n",
              "      <td>28.0</td>\n",
              "      <td>1.0</td>\n",
              "      <td>0.0</td>\n",
              "      <td>0.0</td>\n",
              "      <td>1.0</td>\n",
              "      <td>1.0</td>\n",
              "      <td>...</td>\n",
              "      <td>0.0</td>\n",
              "      <td>3.0</td>\n",
              "      <td>0.0</td>\n",
              "      <td>male</td>\n",
              "      <td>11.0</td>\n",
              "      <td>6.0</td>\n",
              "      <td>8.0</td>\n",
              "      <td>red</td>\n",
              "      <td>1.69</td>\n",
              "      <td>80.0</td>\n",
              "    </tr>\n",
              "    <tr>\n",
              "      <th>4</th>\n",
              "      <td>no_diabetes</td>\n",
              "      <td>0.0</td>\n",
              "      <td>0.0</td>\n",
              "      <td>1.0</td>\n",
              "      <td>29.0</td>\n",
              "      <td>1.0</td>\n",
              "      <td>0.0</td>\n",
              "      <td>0.0</td>\n",
              "      <td>1.0</td>\n",
              "      <td>1.0</td>\n",
              "      <td>...</td>\n",
              "      <td>0.0</td>\n",
              "      <td>0.0</td>\n",
              "      <td>0.0</td>\n",
              "      <td>female</td>\n",
              "      <td>8.0</td>\n",
              "      <td>5.0</td>\n",
              "      <td>8.0</td>\n",
              "      <td>black</td>\n",
              "      <td>1.72</td>\n",
              "      <td>86.0</td>\n",
              "    </tr>\n",
              "  </tbody>\n",
              "</table>\n",
              "<p>5 rows × 25 columns</p>\n",
              "</div>\n",
              "      <button class=\"colab-df-convert\" onclick=\"convertToInteractive('df-aa47e498-762c-499b-b966-b72098b9f5e4')\"\n",
              "              title=\"Convert this dataframe to an interactive table.\"\n",
              "              style=\"display:none;\">\n",
              "        \n",
              "  <svg xmlns=\"http://www.w3.org/2000/svg\" height=\"24px\"viewBox=\"0 0 24 24\"\n",
              "       width=\"24px\">\n",
              "    <path d=\"M0 0h24v24H0V0z\" fill=\"none\"/>\n",
              "    <path d=\"M18.56 5.44l.94 2.06.94-2.06 2.06-.94-2.06-.94-.94-2.06-.94 2.06-2.06.94zm-11 1L8.5 8.5l.94-2.06 2.06-.94-2.06-.94L8.5 2.5l-.94 2.06-2.06.94zm10 10l.94 2.06.94-2.06 2.06-.94-2.06-.94-.94-2.06-.94 2.06-2.06.94z\"/><path d=\"M17.41 7.96l-1.37-1.37c-.4-.4-.92-.59-1.43-.59-.52 0-1.04.2-1.43.59L10.3 9.45l-7.72 7.72c-.78.78-.78 2.05 0 2.83L4 21.41c.39.39.9.59 1.41.59.51 0 1.02-.2 1.41-.59l7.78-7.78 2.81-2.81c.8-.78.8-2.07 0-2.86zM5.41 20L4 18.59l7.72-7.72 1.47 1.35L5.41 20z\"/>\n",
              "  </svg>\n",
              "      </button>\n",
              "      \n",
              "  <style>\n",
              "    .colab-df-container {\n",
              "      display:flex;\n",
              "      flex-wrap:wrap;\n",
              "      gap: 12px;\n",
              "    }\n",
              "\n",
              "    .colab-df-convert {\n",
              "      background-color: #E8F0FE;\n",
              "      border: none;\n",
              "      border-radius: 50%;\n",
              "      cursor: pointer;\n",
              "      display: none;\n",
              "      fill: #1967D2;\n",
              "      height: 32px;\n",
              "      padding: 0 0 0 0;\n",
              "      width: 32px;\n",
              "    }\n",
              "\n",
              "    .colab-df-convert:hover {\n",
              "      background-color: #E2EBFA;\n",
              "      box-shadow: 0px 1px 2px rgba(60, 64, 67, 0.3), 0px 1px 3px 1px rgba(60, 64, 67, 0.15);\n",
              "      fill: #174EA6;\n",
              "    }\n",
              "\n",
              "    [theme=dark] .colab-df-convert {\n",
              "      background-color: #3B4455;\n",
              "      fill: #D2E3FC;\n",
              "    }\n",
              "\n",
              "    [theme=dark] .colab-df-convert:hover {\n",
              "      background-color: #434B5C;\n",
              "      box-shadow: 0px 1px 3px 1px rgba(0, 0, 0, 0.15);\n",
              "      filter: drop-shadow(0px 1px 2px rgba(0, 0, 0, 0.3));\n",
              "      fill: #FFFFFF;\n",
              "    }\n",
              "  </style>\n",
              "\n",
              "      <script>\n",
              "        const buttonEl =\n",
              "          document.querySelector('#df-aa47e498-762c-499b-b966-b72098b9f5e4 button.colab-df-convert');\n",
              "        buttonEl.style.display =\n",
              "          google.colab.kernel.accessAllowed ? 'block' : 'none';\n",
              "\n",
              "        async function convertToInteractive(key) {\n",
              "          const element = document.querySelector('#df-aa47e498-762c-499b-b966-b72098b9f5e4');\n",
              "          const dataTable =\n",
              "            await google.colab.kernel.invokeFunction('convertToInteractive',\n",
              "                                                     [key], {});\n",
              "          if (!dataTable) return;\n",
              "\n",
              "          const docLinkHtml = 'Like what you see? Visit the ' +\n",
              "            '<a target=\"_blank\" href=https://colab.research.google.com/notebooks/data_table.ipynb>data table notebook</a>'\n",
              "            + ' to learn more about interactive tables.';\n",
              "          element.innerHTML = '';\n",
              "          dataTable['output_type'] = 'display_data';\n",
              "          await google.colab.output.renderOutput(dataTable, element);\n",
              "          const docLink = document.createElement('div');\n",
              "          docLink.innerHTML = docLinkHtml;\n",
              "          element.appendChild(docLink);\n",
              "        }\n",
              "      </script>\n",
              "    </div>\n",
              "  </div>\n",
              "  "
            ]
          },
          "metadata": {},
          "execution_count": 115
        }
      ]
    },
    {
      "cell_type": "code",
      "source": [
        "diabetes = diabetes.dropna()\n",
        "diabetes.describe()"
      ],
      "metadata": {
        "colab": {
          "base_uri": "https://localhost:8080/",
          "height": 394
        },
        "id": "m0Rq-Wl-TzQH",
        "outputId": "a44f796e-9797-4d72-cb0b-687c15a5f27b"
      },
      "execution_count": null,
      "outputs": [
        {
          "output_type": "execute_result",
          "data": {
            "text/plain": [
              "             HighBP      HighChol     CholCheck           BMI        Smoker  \\\n",
              "count  65864.000000  65864.000000  65864.000000  65864.000000  65864.000000   \n",
              "mean       0.562918      0.525188      0.975024     29.863856      0.475100   \n",
              "std        0.496029      0.499369      0.156052      7.120084      0.499383   \n",
              "min        0.000000      0.000000      0.000000     12.000000      0.000000   \n",
              "25%        0.000000      0.000000      1.000000     25.000000      0.000000   \n",
              "50%        1.000000      1.000000      1.000000     29.000000      0.000000   \n",
              "75%        1.000000      1.000000      1.000000     33.000000      1.000000   \n",
              "max        1.000000      1.000000      1.000000     98.000000      1.000000   \n",
              "\n",
              "             Stroke  HeartDiseaseorAttack  PhysActivity        Fruits  \\\n",
              "count  65864.000000           65864.00000  65864.000000  65864.000000   \n",
              "mean       0.062204               0.14829      0.702523      0.610652   \n",
              "std        0.241527               0.35539      0.457151      0.487606   \n",
              "min        0.000000               0.00000      0.000000      0.000000   \n",
              "25%        0.000000               0.00000      0.000000      0.000000   \n",
              "50%        0.000000               0.00000      1.000000      1.000000   \n",
              "75%        0.000000               0.00000      1.000000      1.000000   \n",
              "max        1.000000               1.00000      1.000000      1.000000   \n",
              "\n",
              "            Veggies  ...   NoDocbcCost       GenHlth      MentHlth  \\\n",
              "count  65864.000000  ...  65864.000000  65864.000000  65864.000000   \n",
              "mean       0.788807  ...      0.094255      2.837529      3.740329   \n",
              "std        0.408158  ...      0.292185      1.114550      8.141615   \n",
              "min        0.000000  ...      0.000000      1.000000      0.000000   \n",
              "25%        1.000000  ...      0.000000      2.000000      0.000000   \n",
              "50%        1.000000  ...      0.000000      3.000000      0.000000   \n",
              "75%        1.000000  ...      0.000000      4.000000      2.000000   \n",
              "max        1.000000  ...      1.000000      5.000000     30.000000   \n",
              "\n",
              "           PhysHlth      DiffWalk           Age     Education        Income  \\\n",
              "count  65864.000000  65864.000000  65864.000000  65864.000000  65864.000000   \n",
              "mean       5.819826      0.253340      8.583505      4.921080      5.699426   \n",
              "std       10.071241      0.434927      2.850603      1.028862      2.173049   \n",
              "min        0.000000      0.000000      1.000000      1.000000      1.000000   \n",
              "25%        0.000000      0.000000      7.000000      4.000000      4.000000   \n",
              "50%        0.000000      0.000000      9.000000      5.000000      6.000000   \n",
              "75%        6.000000      1.000000     11.000000      6.000000      8.000000   \n",
              "max       30.000000      1.000000     13.000000      6.000000      8.000000   \n",
              "\n",
              "             Height        Weight  \n",
              "count  65864.000000  65864.000000  \n",
              "mean       1.700188     86.428064  \n",
              "std        0.050095     21.219937  \n",
              "min        1.480000     34.000000  \n",
              "25%        1.670000     72.000000  \n",
              "50%        1.700000     83.000000  \n",
              "75%        1.730000     96.000000  \n",
              "max        1.930000    294.000000  \n",
              "\n",
              "[8 rows x 22 columns]"
            ],
            "text/html": [
              "\n",
              "  <div id=\"df-c23c8679-1dd2-4c19-b08b-a485da2cc477\">\n",
              "    <div class=\"colab-df-container\">\n",
              "      <div>\n",
              "<style scoped>\n",
              "    .dataframe tbody tr th:only-of-type {\n",
              "        vertical-align: middle;\n",
              "    }\n",
              "\n",
              "    .dataframe tbody tr th {\n",
              "        vertical-align: top;\n",
              "    }\n",
              "\n",
              "    .dataframe thead th {\n",
              "        text-align: right;\n",
              "    }\n",
              "</style>\n",
              "<table border=\"1\" class=\"dataframe\">\n",
              "  <thead>\n",
              "    <tr style=\"text-align: right;\">\n",
              "      <th></th>\n",
              "      <th>HighBP</th>\n",
              "      <th>HighChol</th>\n",
              "      <th>CholCheck</th>\n",
              "      <th>BMI</th>\n",
              "      <th>Smoker</th>\n",
              "      <th>Stroke</th>\n",
              "      <th>HeartDiseaseorAttack</th>\n",
              "      <th>PhysActivity</th>\n",
              "      <th>Fruits</th>\n",
              "      <th>Veggies</th>\n",
              "      <th>...</th>\n",
              "      <th>NoDocbcCost</th>\n",
              "      <th>GenHlth</th>\n",
              "      <th>MentHlth</th>\n",
              "      <th>PhysHlth</th>\n",
              "      <th>DiffWalk</th>\n",
              "      <th>Age</th>\n",
              "      <th>Education</th>\n",
              "      <th>Income</th>\n",
              "      <th>Height</th>\n",
              "      <th>Weight</th>\n",
              "    </tr>\n",
              "  </thead>\n",
              "  <tbody>\n",
              "    <tr>\n",
              "      <th>count</th>\n",
              "      <td>65864.000000</td>\n",
              "      <td>65864.000000</td>\n",
              "      <td>65864.000000</td>\n",
              "      <td>65864.000000</td>\n",
              "      <td>65864.000000</td>\n",
              "      <td>65864.000000</td>\n",
              "      <td>65864.00000</td>\n",
              "      <td>65864.000000</td>\n",
              "      <td>65864.000000</td>\n",
              "      <td>65864.000000</td>\n",
              "      <td>...</td>\n",
              "      <td>65864.000000</td>\n",
              "      <td>65864.000000</td>\n",
              "      <td>65864.000000</td>\n",
              "      <td>65864.000000</td>\n",
              "      <td>65864.000000</td>\n",
              "      <td>65864.000000</td>\n",
              "      <td>65864.000000</td>\n",
              "      <td>65864.000000</td>\n",
              "      <td>65864.000000</td>\n",
              "      <td>65864.000000</td>\n",
              "    </tr>\n",
              "    <tr>\n",
              "      <th>mean</th>\n",
              "      <td>0.562918</td>\n",
              "      <td>0.525188</td>\n",
              "      <td>0.975024</td>\n",
              "      <td>29.863856</td>\n",
              "      <td>0.475100</td>\n",
              "      <td>0.062204</td>\n",
              "      <td>0.14829</td>\n",
              "      <td>0.702523</td>\n",
              "      <td>0.610652</td>\n",
              "      <td>0.788807</td>\n",
              "      <td>...</td>\n",
              "      <td>0.094255</td>\n",
              "      <td>2.837529</td>\n",
              "      <td>3.740329</td>\n",
              "      <td>5.819826</td>\n",
              "      <td>0.253340</td>\n",
              "      <td>8.583505</td>\n",
              "      <td>4.921080</td>\n",
              "      <td>5.699426</td>\n",
              "      <td>1.700188</td>\n",
              "      <td>86.428064</td>\n",
              "    </tr>\n",
              "    <tr>\n",
              "      <th>std</th>\n",
              "      <td>0.496029</td>\n",
              "      <td>0.499369</td>\n",
              "      <td>0.156052</td>\n",
              "      <td>7.120084</td>\n",
              "      <td>0.499383</td>\n",
              "      <td>0.241527</td>\n",
              "      <td>0.35539</td>\n",
              "      <td>0.457151</td>\n",
              "      <td>0.487606</td>\n",
              "      <td>0.408158</td>\n",
              "      <td>...</td>\n",
              "      <td>0.292185</td>\n",
              "      <td>1.114550</td>\n",
              "      <td>8.141615</td>\n",
              "      <td>10.071241</td>\n",
              "      <td>0.434927</td>\n",
              "      <td>2.850603</td>\n",
              "      <td>1.028862</td>\n",
              "      <td>2.173049</td>\n",
              "      <td>0.050095</td>\n",
              "      <td>21.219937</td>\n",
              "    </tr>\n",
              "    <tr>\n",
              "      <th>min</th>\n",
              "      <td>0.000000</td>\n",
              "      <td>0.000000</td>\n",
              "      <td>0.000000</td>\n",
              "      <td>12.000000</td>\n",
              "      <td>0.000000</td>\n",
              "      <td>0.000000</td>\n",
              "      <td>0.00000</td>\n",
              "      <td>0.000000</td>\n",
              "      <td>0.000000</td>\n",
              "      <td>0.000000</td>\n",
              "      <td>...</td>\n",
              "      <td>0.000000</td>\n",
              "      <td>1.000000</td>\n",
              "      <td>0.000000</td>\n",
              "      <td>0.000000</td>\n",
              "      <td>0.000000</td>\n",
              "      <td>1.000000</td>\n",
              "      <td>1.000000</td>\n",
              "      <td>1.000000</td>\n",
              "      <td>1.480000</td>\n",
              "      <td>34.000000</td>\n",
              "    </tr>\n",
              "    <tr>\n",
              "      <th>25%</th>\n",
              "      <td>0.000000</td>\n",
              "      <td>0.000000</td>\n",
              "      <td>1.000000</td>\n",
              "      <td>25.000000</td>\n",
              "      <td>0.000000</td>\n",
              "      <td>0.000000</td>\n",
              "      <td>0.00000</td>\n",
              "      <td>0.000000</td>\n",
              "      <td>0.000000</td>\n",
              "      <td>1.000000</td>\n",
              "      <td>...</td>\n",
              "      <td>0.000000</td>\n",
              "      <td>2.000000</td>\n",
              "      <td>0.000000</td>\n",
              "      <td>0.000000</td>\n",
              "      <td>0.000000</td>\n",
              "      <td>7.000000</td>\n",
              "      <td>4.000000</td>\n",
              "      <td>4.000000</td>\n",
              "      <td>1.670000</td>\n",
              "      <td>72.000000</td>\n",
              "    </tr>\n",
              "    <tr>\n",
              "      <th>50%</th>\n",
              "      <td>1.000000</td>\n",
              "      <td>1.000000</td>\n",
              "      <td>1.000000</td>\n",
              "      <td>29.000000</td>\n",
              "      <td>0.000000</td>\n",
              "      <td>0.000000</td>\n",
              "      <td>0.00000</td>\n",
              "      <td>1.000000</td>\n",
              "      <td>1.000000</td>\n",
              "      <td>1.000000</td>\n",
              "      <td>...</td>\n",
              "      <td>0.000000</td>\n",
              "      <td>3.000000</td>\n",
              "      <td>0.000000</td>\n",
              "      <td>0.000000</td>\n",
              "      <td>0.000000</td>\n",
              "      <td>9.000000</td>\n",
              "      <td>5.000000</td>\n",
              "      <td>6.000000</td>\n",
              "      <td>1.700000</td>\n",
              "      <td>83.000000</td>\n",
              "    </tr>\n",
              "    <tr>\n",
              "      <th>75%</th>\n",
              "      <td>1.000000</td>\n",
              "      <td>1.000000</td>\n",
              "      <td>1.000000</td>\n",
              "      <td>33.000000</td>\n",
              "      <td>1.000000</td>\n",
              "      <td>0.000000</td>\n",
              "      <td>0.00000</td>\n",
              "      <td>1.000000</td>\n",
              "      <td>1.000000</td>\n",
              "      <td>1.000000</td>\n",
              "      <td>...</td>\n",
              "      <td>0.000000</td>\n",
              "      <td>4.000000</td>\n",
              "      <td>2.000000</td>\n",
              "      <td>6.000000</td>\n",
              "      <td>1.000000</td>\n",
              "      <td>11.000000</td>\n",
              "      <td>6.000000</td>\n",
              "      <td>8.000000</td>\n",
              "      <td>1.730000</td>\n",
              "      <td>96.000000</td>\n",
              "    </tr>\n",
              "    <tr>\n",
              "      <th>max</th>\n",
              "      <td>1.000000</td>\n",
              "      <td>1.000000</td>\n",
              "      <td>1.000000</td>\n",
              "      <td>98.000000</td>\n",
              "      <td>1.000000</td>\n",
              "      <td>1.000000</td>\n",
              "      <td>1.00000</td>\n",
              "      <td>1.000000</td>\n",
              "      <td>1.000000</td>\n",
              "      <td>1.000000</td>\n",
              "      <td>...</td>\n",
              "      <td>1.000000</td>\n",
              "      <td>5.000000</td>\n",
              "      <td>30.000000</td>\n",
              "      <td>30.000000</td>\n",
              "      <td>1.000000</td>\n",
              "      <td>13.000000</td>\n",
              "      <td>6.000000</td>\n",
              "      <td>8.000000</td>\n",
              "      <td>1.930000</td>\n",
              "      <td>294.000000</td>\n",
              "    </tr>\n",
              "  </tbody>\n",
              "</table>\n",
              "<p>8 rows × 22 columns</p>\n",
              "</div>\n",
              "      <button class=\"colab-df-convert\" onclick=\"convertToInteractive('df-c23c8679-1dd2-4c19-b08b-a485da2cc477')\"\n",
              "              title=\"Convert this dataframe to an interactive table.\"\n",
              "              style=\"display:none;\">\n",
              "        \n",
              "  <svg xmlns=\"http://www.w3.org/2000/svg\" height=\"24px\"viewBox=\"0 0 24 24\"\n",
              "       width=\"24px\">\n",
              "    <path d=\"M0 0h24v24H0V0z\" fill=\"none\"/>\n",
              "    <path d=\"M18.56 5.44l.94 2.06.94-2.06 2.06-.94-2.06-.94-.94-2.06-.94 2.06-2.06.94zm-11 1L8.5 8.5l.94-2.06 2.06-.94-2.06-.94L8.5 2.5l-.94 2.06-2.06.94zm10 10l.94 2.06.94-2.06 2.06-.94-2.06-.94-.94-2.06-.94 2.06-2.06.94z\"/><path d=\"M17.41 7.96l-1.37-1.37c-.4-.4-.92-.59-1.43-.59-.52 0-1.04.2-1.43.59L10.3 9.45l-7.72 7.72c-.78.78-.78 2.05 0 2.83L4 21.41c.39.39.9.59 1.41.59.51 0 1.02-.2 1.41-.59l7.78-7.78 2.81-2.81c.8-.78.8-2.07 0-2.86zM5.41 20L4 18.59l7.72-7.72 1.47 1.35L5.41 20z\"/>\n",
              "  </svg>\n",
              "      </button>\n",
              "      \n",
              "  <style>\n",
              "    .colab-df-container {\n",
              "      display:flex;\n",
              "      flex-wrap:wrap;\n",
              "      gap: 12px;\n",
              "    }\n",
              "\n",
              "    .colab-df-convert {\n",
              "      background-color: #E8F0FE;\n",
              "      border: none;\n",
              "      border-radius: 50%;\n",
              "      cursor: pointer;\n",
              "      display: none;\n",
              "      fill: #1967D2;\n",
              "      height: 32px;\n",
              "      padding: 0 0 0 0;\n",
              "      width: 32px;\n",
              "    }\n",
              "\n",
              "    .colab-df-convert:hover {\n",
              "      background-color: #E2EBFA;\n",
              "      box-shadow: 0px 1px 2px rgba(60, 64, 67, 0.3), 0px 1px 3px 1px rgba(60, 64, 67, 0.15);\n",
              "      fill: #174EA6;\n",
              "    }\n",
              "\n",
              "    [theme=dark] .colab-df-convert {\n",
              "      background-color: #3B4455;\n",
              "      fill: #D2E3FC;\n",
              "    }\n",
              "\n",
              "    [theme=dark] .colab-df-convert:hover {\n",
              "      background-color: #434B5C;\n",
              "      box-shadow: 0px 1px 3px 1px rgba(0, 0, 0, 0.15);\n",
              "      filter: drop-shadow(0px 1px 2px rgba(0, 0, 0, 0.3));\n",
              "      fill: #FFFFFF;\n",
              "    }\n",
              "  </style>\n",
              "\n",
              "      <script>\n",
              "        const buttonEl =\n",
              "          document.querySelector('#df-c23c8679-1dd2-4c19-b08b-a485da2cc477 button.colab-df-convert');\n",
              "        buttonEl.style.display =\n",
              "          google.colab.kernel.accessAllowed ? 'block' : 'none';\n",
              "\n",
              "        async function convertToInteractive(key) {\n",
              "          const element = document.querySelector('#df-c23c8679-1dd2-4c19-b08b-a485da2cc477');\n",
              "          const dataTable =\n",
              "            await google.colab.kernel.invokeFunction('convertToInteractive',\n",
              "                                                     [key], {});\n",
              "          if (!dataTable) return;\n",
              "\n",
              "          const docLinkHtml = 'Like what you see? Visit the ' +\n",
              "            '<a target=\"_blank\" href=https://colab.research.google.com/notebooks/data_table.ipynb>data table notebook</a>'\n",
              "            + ' to learn more about interactive tables.';\n",
              "          element.innerHTML = '';\n",
              "          dataTable['output_type'] = 'display_data';\n",
              "          await google.colab.output.renderOutput(dataTable, element);\n",
              "          const docLink = document.createElement('div');\n",
              "          docLink.innerHTML = docLinkHtml;\n",
              "          element.appendChild(docLink);\n",
              "        }\n",
              "      </script>\n",
              "    </div>\n",
              "  </div>\n",
              "  "
            ]
          },
          "metadata": {},
          "execution_count": 116
        }
      ]
    },
    {
      "cell_type": "markdown",
      "source": [
        "Se eliminaron 5000 filas con datos nulos aproximadamentes para que no interfieran en el procesamiento"
      ],
      "metadata": {
        "id": "X9-4Z2xYT3c0"
      }
    },
    {
      "cell_type": "code",
      "source": [
        "diabetes = diabetes.replace([\"female\"], 0).replace([\"male\"], 1)\n",
        "diabetes = diabetes.replace([\"no_diabetes\"], 0).replace([\"diabetes\"], 1)\n",
        "diabetes = diabetes.replace([\"blonde\"], 0).replace([\"brown\"], 1).replace([\"black\"], 2).replace([\"red\"], 3).replace([\"white\"], 4).replace([\"grey\"], 5)\n",
        "diabetes.Diabetes_binary"
      ],
      "metadata": {
        "colab": {
          "base_uri": "https://localhost:8080/"
        },
        "id": "mZVhrlg-VpAm",
        "outputId": "680e4697-44fb-4297-ebe6-2cab08866fdf"
      },
      "execution_count": null,
      "outputs": [
        {
          "output_type": "execute_result",
          "data": {
            "text/plain": [
              "0        0\n",
              "1        0\n",
              "2        0\n",
              "3        0\n",
              "4        0\n",
              "        ..\n",
              "70685    1\n",
              "70687    1\n",
              "70688    1\n",
              "70689    1\n",
              "70691    1\n",
              "Name: Diabetes_binary, Length: 65864, dtype: int64"
            ]
          },
          "metadata": {},
          "execution_count": 117
        }
      ]
    },
    {
      "cell_type": "code",
      "source": [
        "diabetes.Sex"
      ],
      "metadata": {
        "colab": {
          "base_uri": "https://localhost:8080/"
        },
        "id": "9JquzmC4V1ZY",
        "outputId": "fbad014c-540c-422e-d5a2-10cba784a134"
      },
      "execution_count": null,
      "outputs": [
        {
          "output_type": "execute_result",
          "data": {
            "text/plain": [
              "0        1\n",
              "1        1\n",
              "2        1\n",
              "3        1\n",
              "4        0\n",
              "        ..\n",
              "70685    0\n",
              "70687    0\n",
              "70688    1\n",
              "70689    0\n",
              "70691    0\n",
              "Name: Sex, Length: 65864, dtype: int64"
            ]
          },
          "metadata": {},
          "execution_count": 118
        }
      ]
    },
    {
      "cell_type": "code",
      "source": [
        "diabetes.HairColor"
      ],
      "metadata": {
        "colab": {
          "base_uri": "https://localhost:8080/"
        },
        "id": "lCk5ql0FWjNs",
        "outputId": "cf571501-81bd-49fd-b471-91ba21542929"
      },
      "execution_count": null,
      "outputs": [
        {
          "output_type": "execute_result",
          "data": {
            "text/plain": [
              "0        5\n",
              "1        0\n",
              "2        2\n",
              "3        3\n",
              "4        2\n",
              "        ..\n",
              "70685    5\n",
              "70687    2\n",
              "70688    2\n",
              "70689    1\n",
              "70691    2\n",
              "Name: HairColor, Length: 65864, dtype: int64"
            ]
          },
          "metadata": {},
          "execution_count": 119
        }
      ]
    },
    {
      "cell_type": "markdown",
      "source": [
        "Se transformaron también todas las variables cualitativas en numeros. Esto con el objetivo de que el algoritmo de clasificación no tenga problemas con este tipo de datos."
      ],
      "metadata": {
        "id": "g7ISvlCeXuXD"
      }
    },
    {
      "cell_type": "code",
      "source": [
        "diabetes_limpio = diabetes"
      ],
      "metadata": {
        "id": "lN0dgGHeYRWv"
      },
      "execution_count": null,
      "outputs": []
    },
    {
      "cell_type": "markdown",
      "metadata": {
        "id": "WsJNFI6MRg8X"
      },
      "source": [
        "# Actividad 2: Visualizando y comprendiendo"
      ]
    },
    {
      "cell_type": "code",
      "execution_count": null,
      "metadata": {
        "id": "kSv30N-URg8X"
      },
      "outputs": [],
      "source": [
        "# Escribe tu código aquí. Puedes crear todas las celdas que consideres necesario.\n",
        "diabetes_limpio = diabetes_limpio.drop(columns=[\"Height\", \"Weight\"])"
      ]
    },
    {
      "cell_type": "markdown",
      "source": [
        "Se eliminaron las columnas de altura y peso ya que ambas están incluidas en en la columna del indice de masa corporal."
      ],
      "metadata": {
        "id": "E41NG-mtZKXK"
      }
    },
    {
      "cell_type": "code",
      "source": [
        "diabetes_tiene_diabetes = diabetes_limpio.where(diabetes_limpio['Diabetes_binary'] == 1).dropna()\n",
        "diabetes_no_tiene_diabetes = diabetes_limpio.where(diabetes_limpio['Diabetes_binary'] == 0).dropna()"
      ],
      "metadata": {
        "id": "iq16DWj8Z4Mt"
      },
      "execution_count": null,
      "outputs": []
    },
    {
      "cell_type": "code",
      "source": [
        "total_tiene_diabetes = diabetes_tiene_diabetes.count()[0]\n",
        "total_no_tiene_diabetes = diabetes_no_tiene_diabetes.count()[0]"
      ],
      "metadata": {
        "id": "aJsIT4xEalu5"
      },
      "execution_count": null,
      "outputs": []
    },
    {
      "cell_type": "code",
      "source": [
        "import matplotlib.pyplot as plt\n",
        "\n",
        "media_imc_diabetes = diabetes_tiene_diabetes[\"BMI\"].mean()\n",
        "media_imc_no_diabetes = diabetes_no_tiene_diabetes[\"BMI\"].mean()\n",
        "\n",
        "barras_labels = [\"Tienen diabetes\", \"No tienen diabetes\"]\n",
        "\n",
        "fig = plt.figure(figsize=(10, 6))\n",
        "fig.text(0.5, 0.9, \"Media de Indice de masa corporal para personas con y sin diabetes\", ha='center', fontsize=12)\n",
        "plt.text(barras_labels[0], media_imc_diabetes + 0.3, str(media_imc_diabetes.round(1)), fontsize=12) \n",
        "plt.text(barras_labels[1], media_imc_no_diabetes + 0.3,  str(media_imc_no_diabetes.round(1)), fontsize=12) \n",
        "plt.bar(barras_labels, [media_imc_diabetes, media_imc_no_diabetes])\n",
        "plt.show()"
      ],
      "metadata": {
        "colab": {
          "base_uri": "https://localhost:8080/",
          "height": 393
        },
        "id": "nhDX5HEMbbrV",
        "outputId": "c52fd0c9-0493-4315-8bf1-b8d4b227c833"
      },
      "execution_count": null,
      "outputs": [
        {
          "output_type": "display_data",
          "data": {
            "text/plain": [
              "<Figure size 720x432 with 1 Axes>"
            ],
            "image/png": "[encoded data removed]"
          },
          "metadata": {
            "needs_background": "light"
          }
        }
      ]
    },
    {
      "cell_type": "code",
      "source": [
        "PhysActivity_tienen_diabetes = diabetes_tiene_diabetes.where(diabetes_limpio['PhysActivity'] == 1).dropna().count()[0]\n",
        "PhysActivity_no_tienen_diabetes = diabetes_no_tiene_diabetes.where(diabetes_limpio['PhysActivity'] == 1).dropna().count()[0]\n",
        "\n",
        "procentajePhysActivity_tiene = PhysActivity_tienen_diabetes/total_tiene_diabetes\n",
        "\n",
        "procentajePhysActivity_no_tiene = PhysActivity_no_tienen_diabetes/total_no_tiene_diabetes"
      ],
      "metadata": {
        "id": "HC7cYNq7dRfi"
      },
      "execution_count": null,
      "outputs": []
    },
    {
      "cell_type": "code",
      "source": [
        "labels_hace_actividad = [\"Hacen actividad fisica regularmente\", \"No hacen actividad fisica regularmente\"]\n",
        "\n",
        "contrarioPhysActivity_tiene = 1 - procentajePhysActivity_tiene\n",
        "\n",
        "fig = plt.figure(figsize=(10, 6))\n",
        "fig.text(0.5, 0.9, \"Porcentaje que hace actividad física regularmente de personas con diabetes\", ha='center', fontsize=12)\n",
        "plt.pie([procentajePhysActivity_tiene, contrarioPhysActivity_tiene], labels=labels_hace_actividad, autopct=\"%0.1f %%\")\n",
        "plt.show()"
      ],
      "metadata": {
        "colab": {
          "base_uri": "https://localhost:8080/",
          "height": 376
        },
        "id": "ZStT5K3seXVK",
        "outputId": "eb844c39-25b8-4519-f214-9cc7c87cf7d1"
      },
      "execution_count": null,
      "outputs": [
        {
          "output_type": "display_data",
          "data": {
            "text/plain": [
              "<Figure size 720x432 with 1 Axes>"
            ],
            "image/png": "[encoded data removed]"
          },
          "metadata": {}
        }
      ]
    },
    {
      "cell_type": "code",
      "source": [
        "contrarioPhysActivity_no_tiene = 1 - procentajePhysActivity_no_tiene\n",
        "\n",
        "fig = plt.figure(figsize=(10, 6))\n",
        "fig.text(0.5, 0.9, \"Porcentaje que hace actividad física regularmente de personas sin diabetes\", ha='center', fontsize=12)\n",
        "plt.pie([procentajePhysActivity_no_tiene, contrarioPhysActivity_no_tiene], labels=labels_hace_actividad, autopct=\"%0.1f %%\")\n",
        "plt.show()"
      ],
      "metadata": {
        "colab": {
          "base_uri": "https://localhost:8080/",
          "height": 376
        },
        "id": "riALai09fg7G",
        "outputId": "2910d495-95ff-4170-b8a3-f8350d5e7f98"
      },
      "execution_count": null,
      "outputs": [
        {
          "output_type": "display_data",
          "data": {
            "text/plain": [
              "<Figure size 720x432 with 1 Axes>"
            ],
            "image/png": "[encoded data removed]"
          },
          "metadata": {}
        }
      ]
    },
    {
      "cell_type": "code",
      "source": [
        "HighChol_tienen_diabetes = diabetes_tiene_diabetes.where(diabetes_limpio['HighChol'] == 1).dropna().count()[0]\n",
        "HighChol_no_tienen_diabetes = diabetes_no_tiene_diabetes.where(diabetes_limpio['HighChol'] == 1).dropna().count()[0]\n",
        "\n",
        "procentajeHighChol_tiene = HighChol_tienen_diabetes/total_tiene_diabetes\n",
        "\n",
        "procentajeHighChol_no_tiene = HighChol_no_tienen_diabetes/total_no_tiene_diabetes"
      ],
      "metadata": {
        "id": "wKgIKkWlf8M9"
      },
      "execution_count": null,
      "outputs": []
    },
    {
      "cell_type": "code",
      "source": [
        "labels_colesterol = [\"Tienen el colesterol alto\", \"No tienen el colesterol alto\"]\n",
        "\n",
        "contrarioHighChol_tiene = 1 - procentajeHighChol_tiene\n",
        "\n",
        "fig = plt.figure(figsize=(10, 6))\n",
        "fig.text(0.5, 0.9, \"Porcentaje que tiene el colesterol alto de personas con diabetes\", ha='center', fontsize=12)\n",
        "plt.pie([procentajeHighChol_tiene, contrarioHighChol_tiene], labels=labels_colesterol, autopct=\"%0.1f %%\")\n",
        "plt.show()"
      ],
      "metadata": {
        "colab": {
          "base_uri": "https://localhost:8080/",
          "height": 376
        },
        "id": "uyXJ4BJqgTId",
        "outputId": "5af0da12-fbec-4f4c-dd8c-fdb4a5ad5f5f"
      },
      "execution_count": null,
      "outputs": [
        {
          "output_type": "display_data",
          "data": {
            "text/plain": [
              "<Figure size 720x432 with 1 Axes>"
            ],
            "image/png": "[encoded data removed]"
          },
          "metadata": {}
        }
      ]
    },
    {
      "cell_type": "code",
      "source": [
        "contrarioHighChol_no_tiene = 1 - procentajeHighChol_no_tiene\n",
        "\n",
        "fig = plt.figure(figsize=(10, 6))\n",
        "fig.text(0.5, 0.9, \"Porcentaje que tiene el colesterol alto de personas sin diabetes\", ha='center', fontsize=12)\n",
        "plt.pie([procentajeHighChol_no_tiene, contrarioHighChol_no_tiene], labels=labels_colesterol, autopct=\"%0.1f %%\")\n",
        "plt.show()"
      ],
      "metadata": {
        "colab": {
          "base_uri": "https://localhost:8080/",
          "height": 376
        },
        "id": "Gkt0JnZ8g1Ph",
        "outputId": "83a02e32-0240-47fb-e911-d648c0aeb964"
      },
      "execution_count": null,
      "outputs": [
        {
          "output_type": "display_data",
          "data": {
            "text/plain": [
              "<Figure size 720x432 with 1 Axes>"
            ],
            "image/png": "[encoded data removed]"
          },
          "metadata": {}
        }
      ]
    },
    {
      "cell_type": "markdown",
      "source": [
        "De los gráficos anteriores es posible sacar las siguientes hipotesis. En primer lugar, las personas con diabetes tienden a poseer un Indice de Masa Corporal mas alto que las personas sin diabetes. En segundo lugar, las personas con alto colesterol son mas probables a poseer diabetes. Por ultimo, las personas que no tienen diabetes tienden a hacer actividad física con mayor frecuencia que las personas sin esta enfermedad. "
      ],
      "metadata": {
        "id": "IR86F1cUk4Nr"
      }
    },
    {
      "cell_type": "markdown",
      "metadata": {
        "id": "F7Orks8TRg8Y"
      },
      "source": [
        "# Actividad 3: Pre-procesando los datos"
      ]
    },
    {
      "cell_type": "code",
      "execution_count": null,
      "metadata": {
        "colab": {
          "base_uri": "https://localhost:8080/",
          "height": 299
        },
        "id": "2YGMeDijRg8Y",
        "outputId": "b417d34e-3088-45a1-ee53-cf104a0f67b5"
      },
      "outputs": [
        {
          "output_type": "execute_result",
          "data": {
            "text/plain": [
              "   Diabetes_binary  HighBP  HighChol  CholCheck  BMI  Smoker  Stroke  \\\n",
              "0                0       1         0          1   26       0       0   \n",
              "1                0       1         1          1   26       1       1   \n",
              "2                0       0         0          1   26       0       0   \n",
              "3                0       1         1          1   28       1       0   \n",
              "4                0       0         0          1   29       1       0   \n",
              "\n",
              "   HeartDiseaseorAttack  PhysActivity  Fruits  ...  NoDocbcCost  GenHlth  \\\n",
              "0                     0             1       0  ...            0        3   \n",
              "1                     0             0       1  ...            0        3   \n",
              "2                     0             1       1  ...            0        1   \n",
              "3                     0             1       1  ...            0        3   \n",
              "4                     0             1       1  ...            0        2   \n",
              "\n",
              "   MentHlth  PhysHlth  DiffWalk  Sex  Age  Education  Income  HairColor  \n",
              "0         5        30         0    1    4          6       8          5  \n",
              "1         0         0         0    1   12          6       8          0  \n",
              "2         0        10         0    1   13          6       8          2  \n",
              "3         0         3         0    1   11          6       8          3  \n",
              "4         0         0         0    0    8          5       8          2  \n",
              "\n",
              "[5 rows x 23 columns]"
            ],
            "text/html": [
              "\n",
              "  <div id=\"df-dc8e60d0-6492-4454-a406-8d62d2b92823\">\n",
              "    <div class=\"colab-df-container\">\n",
              "      <div>\n",
              "<style scoped>\n",
              "    .dataframe tbody tr th:only-of-type {\n",
              "        vertical-align: middle;\n",
              "    }\n",
              "\n",
              "    .dataframe tbody tr th {\n",
              "        vertical-align: top;\n",
              "    }\n",
              "\n",
              "    .dataframe thead th {\n",
              "        text-align: right;\n",
              "    }\n",
              "</style>\n",
              "<table border=\"1\" class=\"dataframe\">\n",
              "  <thead>\n",
              "    <tr style=\"text-align: right;\">\n",
              "      <th></th>\n",
              "      <th>Diabetes_binary</th>\n",
              "      <th>HighBP</th>\n",
              "      <th>HighChol</th>\n",
              "      <th>CholCheck</th>\n",
              "      <th>BMI</th>\n",
              "      <th>Smoker</th>\n",
              "      <th>Stroke</th>\n",
              "      <th>HeartDiseaseorAttack</th>\n",
              "      <th>PhysActivity</th>\n",
              "      <th>Fruits</th>\n",
              "      <th>...</th>\n",
              "      <th>NoDocbcCost</th>\n",
              "      <th>GenHlth</th>\n",
              "      <th>MentHlth</th>\n",
              "      <th>PhysHlth</th>\n",
              "      <th>DiffWalk</th>\n",
              "      <th>Sex</th>\n",
              "      <th>Age</th>\n",
              "      <th>Education</th>\n",
              "      <th>Income</th>\n",
              "      <th>HairColor</th>\n",
              "    </tr>\n",
              "  </thead>\n",
              "  <tbody>\n",
              "    <tr>\n",
              "      <th>0</th>\n",
              "      <td>0</td>\n",
              "      <td>1</td>\n",
              "      <td>0</td>\n",
              "      <td>1</td>\n",
              "      <td>26</td>\n",
              "      <td>0</td>\n",
              "      <td>0</td>\n",
              "      <td>0</td>\n",
              "      <td>1</td>\n",
              "      <td>0</td>\n",
              "      <td>...</td>\n",
              "      <td>0</td>\n",
              "      <td>3</td>\n",
              "      <td>5</td>\n",
              "      <td>30</td>\n",
              "      <td>0</td>\n",
              "      <td>1</td>\n",
              "      <td>4</td>\n",
              "      <td>6</td>\n",
              "      <td>8</td>\n",
              "      <td>5</td>\n",
              "    </tr>\n",
              "    <tr>\n",
              "      <th>1</th>\n",
              "      <td>0</td>\n",
              "      <td>1</td>\n",
              "      <td>1</td>\n",
              "      <td>1</td>\n",
              "      <td>26</td>\n",
              "      <td>1</td>\n",
              "      <td>1</td>\n",
              "      <td>0</td>\n",
              "      <td>0</td>\n",
              "      <td>1</td>\n",
              "      <td>...</td>\n",
              "      <td>0</td>\n",
              "      <td>3</td>\n",
              "      <td>0</td>\n",
              "      <td>0</td>\n",
              "      <td>0</td>\n",
              "      <td>1</td>\n",
              "      <td>12</td>\n",
              "      <td>6</td>\n",
              "      <td>8</td>\n",
              "      <td>0</td>\n",
              "    </tr>\n",
              "    <tr>\n",
              "      <th>2</th>\n",
              "      <td>0</td>\n",
              "      <td>0</td>\n",
              "      <td>0</td>\n",
              "      <td>1</td>\n",
              "      <td>26</td>\n",
              "      <td>0</td>\n",
              "      <td>0</td>\n",
              "      <td>0</td>\n",
              "      <td>1</td>\n",
              "      <td>1</td>\n",
              "      <td>...</td>\n",
              "      <td>0</td>\n",
              "      <td>1</td>\n",
              "      <td>0</td>\n",
              "      <td>10</td>\n",
              "      <td>0</td>\n",
              "      <td>1</td>\n",
              "      <td>13</td>\n",
              "      <td>6</td>\n",
              "      <td>8</td>\n",
              "      <td>2</td>\n",
              "    </tr>\n",
              "    <tr>\n",
              "      <th>3</th>\n",
              "      <td>0</td>\n",
              "      <td>1</td>\n",
              "      <td>1</td>\n",
              "      <td>1</td>\n",
              "      <td>28</td>\n",
              "      <td>1</td>\n",
              "      <td>0</td>\n",
              "      <td>0</td>\n",
              "      <td>1</td>\n",
              "      <td>1</td>\n",
              "      <td>...</td>\n",
              "      <td>0</td>\n",
              "      <td>3</td>\n",
              "      <td>0</td>\n",
              "      <td>3</td>\n",
              "      <td>0</td>\n",
              "      <td>1</td>\n",
              "      <td>11</td>\n",
              "      <td>6</td>\n",
              "      <td>8</td>\n",
              "      <td>3</td>\n",
              "    </tr>\n",
              "    <tr>\n",
              "      <th>4</th>\n",
              "      <td>0</td>\n",
              "      <td>0</td>\n",
              "      <td>0</td>\n",
              "      <td>1</td>\n",
              "      <td>29</td>\n",
              "      <td>1</td>\n",
              "      <td>0</td>\n",
              "      <td>0</td>\n",
              "      <td>1</td>\n",
              "      <td>1</td>\n",
              "      <td>...</td>\n",
              "      <td>0</td>\n",
              "      <td>2</td>\n",
              "      <td>0</td>\n",
              "      <td>0</td>\n",
              "      <td>0</td>\n",
              "      <td>0</td>\n",
              "      <td>8</td>\n",
              "      <td>5</td>\n",
              "      <td>8</td>\n",
              "      <td>2</td>\n",
              "    </tr>\n",
              "  </tbody>\n",
              "</table>\n",
              "<p>5 rows × 23 columns</p>\n",
              "</div>\n",
              "      <button class=\"colab-df-convert\" onclick=\"convertToInteractive('df-dc8e60d0-6492-4454-a406-8d62d2b92823')\"\n",
              "              title=\"Convert this dataframe to an interactive table.\"\n",
              "              style=\"display:none;\">\n",
              "        \n",
              "  <svg xmlns=\"http://www.w3.org/2000/svg\" height=\"24px\"viewBox=\"0 0 24 24\"\n",
              "       width=\"24px\">\n",
              "    <path d=\"M0 0h24v24H0V0z\" fill=\"none\"/>\n",
              "    <path d=\"M18.56 5.44l.94 2.06.94-2.06 2.06-.94-2.06-.94-.94-2.06-.94 2.06-2.06.94zm-11 1L8.5 8.5l.94-2.06 2.06-.94-2.06-.94L8.5 2.5l-.94 2.06-2.06.94zm10 10l.94 2.06.94-2.06 2.06-.94-2.06-.94-.94-2.06-.94 2.06-2.06.94z\"/><path d=\"M17.41 7.96l-1.37-1.37c-.4-.4-.92-.59-1.43-.59-.52 0-1.04.2-1.43.59L10.3 9.45l-7.72 7.72c-.78.78-.78 2.05 0 2.83L4 21.41c.39.39.9.59 1.41.59.51 0 1.02-.2 1.41-.59l7.78-7.78 2.81-2.81c.8-.78.8-2.07 0-2.86zM5.41 20L4 18.59l7.72-7.72 1.47 1.35L5.41 20z\"/>\n",
              "  </svg>\n",
              "      </button>\n",
              "      \n",
              "  <style>\n",
              "    .colab-df-container {\n",
              "      display:flex;\n",
              "      flex-wrap:wrap;\n",
              "      gap: 12px;\n",
              "    }\n",
              "\n",
              "    .colab-df-convert {\n",
              "      background-color: #E8F0FE;\n",
              "      border: none;\n",
              "      border-radius: 50%;\n",
              "      cursor: pointer;\n",
              "      display: none;\n",
              "      fill: #1967D2;\n",
              "      height: 32px;\n",
              "      padding: 0 0 0 0;\n",
              "      width: 32px;\n",
              "    }\n",
              "\n",
              "    .colab-df-convert:hover {\n",
              "      background-color: #E2EBFA;\n",
              "      box-shadow: 0px 1px 2px rgba(60, 64, 67, 0.3), 0px 1px 3px 1px rgba(60, 64, 67, 0.15);\n",
              "      fill: #174EA6;\n",
              "    }\n",
              "\n",
              "    [theme=dark] .colab-df-convert {\n",
              "      background-color: #3B4455;\n",
              "      fill: #D2E3FC;\n",
              "    }\n",
              "\n",
              "    [theme=dark] .colab-df-convert:hover {\n",
              "      background-color: #434B5C;\n",
              "      box-shadow: 0px 1px 3px 1px rgba(0, 0, 0, 0.15);\n",
              "      filter: drop-shadow(0px 1px 2px rgba(0, 0, 0, 0.3));\n",
              "      fill: #FFFFFF;\n",
              "    }\n",
              "  </style>\n",
              "\n",
              "      <script>\n",
              "        const buttonEl =\n",
              "          document.querySelector('#df-dc8e60d0-6492-4454-a406-8d62d2b92823 button.colab-df-convert');\n",
              "        buttonEl.style.display =\n",
              "          google.colab.kernel.accessAllowed ? 'block' : 'none';\n",
              "\n",
              "        async function convertToInteractive(key) {\n",
              "          const element = document.querySelector('#df-dc8e60d0-6492-4454-a406-8d62d2b92823');\n",
              "          const dataTable =\n",
              "            await google.colab.kernel.invokeFunction('convertToInteractive',\n",
              "                                                     [key], {});\n",
              "          if (!dataTable) return;\n",
              "\n",
              "          const docLinkHtml = 'Like what you see? Visit the ' +\n",
              "            '<a target=\"_blank\" href=https://colab.research.google.com/notebooks/data_table.ipynb>data table notebook</a>'\n",
              "            + ' to learn more about interactive tables.';\n",
              "          element.innerHTML = '';\n",
              "          dataTable['output_type'] = 'display_data';\n",
              "          await google.colab.output.renderOutput(dataTable, element);\n",
              "          const docLink = document.createElement('div');\n",
              "          docLink.innerHTML = docLinkHtml;\n",
              "          element.appendChild(docLink);\n",
              "        }\n",
              "      </script>\n",
              "    </div>\n",
              "  </div>\n",
              "  "
            ]
          },
          "metadata": {},
          "execution_count": 134
        }
      ],
      "source": [
        "# Escribe tu código aquí. Puedes crear todas las celdas que consideres necesario.\n",
        "# Recuerda entregar la nueva versión con los datos procesados en una nueva variable.\n",
        "columnas = diabetes_limpio.columns.to_list()\n",
        "diabetes_limpio_procesado = pd.DataFrame()\n",
        "\n",
        "for columna in columnas:\n",
        "  diabetes_limpio_procesado[columna] = diabetes_limpio[columna].astype(int)\n",
        "\n",
        "diabetes_limpio_procesado.head()"
      ]
    },
    {
      "cell_type": "code",
      "source": [
        "from sklearn.model_selection import train_test_split\n",
        "\n",
        "labels_diabetes = diabetes_limpio_procesado.Diabetes_binary\n",
        "\n",
        "diabetes_limpio_procesado = diabetes_limpio_procesado.drop(columns=['Diabetes_binary'])\n",
        "\n",
        "diabetes_train, diabetes_test, labels_train, labels_test = train_test_split(diabetes_limpio_procesado, labels_diabetes, test_size=0.1, shuffle=True, stratify=labels_diabetes, random_state=random_state )"
      ],
      "metadata": {
        "id": "uKuHh0c2qKg0"
      },
      "execution_count": null,
      "outputs": []
    },
    {
      "cell_type": "markdown",
      "source": [
        "Los datos categoricos fueron representados como numeros durante la limpieza del dataset, mientras que el resto de atributos fueron discretizados.\n",
        "\n",
        "La proporción utilizada para train y test fue de 90/10, ya que es recomendado que el set de train sea mas extenso que el de test y la cantidad de datos permite que un 10% de ellos sea aun un buen volumen de información. \n",
        "\n",
        "La funcion utilizada de sklearn train_test_split con los parametros dados garantiza un balance proporcionado entre diabetes y no diabetes. De no ser así el algoritmo de clasificación puede llegar a errores debido a la falta de datos de entrenamiento de cierta clase o puede provocar un test erroneo debido a la falta de datos de test pertenecientes a una determinada clase."
      ],
      "metadata": {
        "id": "IhZu2Kt2riDg"
      }
    },
    {
      "cell_type": "code",
      "source": [
        "data = pd.DataFrame(labels_test)\n",
        "data[1] = data[\"Diabetes_binary\"]\n",
        "data.groupby(data[\"Diabetes_binary\"]).count()"
      ],
      "metadata": {
        "colab": {
          "base_uri": "https://localhost:8080/",
          "height": 143
        },
        "id": "2SLJBFG4FmlM",
        "outputId": "21cc1b42-d1d5-45ef-b74d-7746b18539a9"
      },
      "execution_count": null,
      "outputs": [
        {
          "output_type": "execute_result",
          "data": {
            "text/plain": [
              "                    1\n",
              "Diabetes_binary      \n",
              "0                3292\n",
              "1                3295"
            ],
            "text/html": [
              "\n",
              "  <div id=\"df-47c082d6-fe11-4fdb-b6be-d957a36ac0d2\">\n",
              "    <div class=\"colab-df-container\">\n",
              "      <div>\n",
              "<style scoped>\n",
              "    .dataframe tbody tr th:only-of-type {\n",
              "        vertical-align: middle;\n",
              "    }\n",
              "\n",
              "    .dataframe tbody tr th {\n",
              "        vertical-align: top;\n",
              "    }\n",
              "\n",
              "    .dataframe thead th {\n",
              "        text-align: right;\n",
              "    }\n",
              "</style>\n",
              "<table border=\"1\" class=\"dataframe\">\n",
              "  <thead>\n",
              "    <tr style=\"text-align: right;\">\n",
              "      <th></th>\n",
              "      <th>1</th>\n",
              "    </tr>\n",
              "    <tr>\n",
              "      <th>Diabetes_binary</th>\n",
              "      <th></th>\n",
              "    </tr>\n",
              "  </thead>\n",
              "  <tbody>\n",
              "    <tr>\n",
              "      <th>0</th>\n",
              "      <td>3292</td>\n",
              "    </tr>\n",
              "    <tr>\n",
              "      <th>1</th>\n",
              "      <td>3295</td>\n",
              "    </tr>\n",
              "  </tbody>\n",
              "</table>\n",
              "</div>\n",
              "      <button class=\"colab-df-convert\" onclick=\"convertToInteractive('df-47c082d6-fe11-4fdb-b6be-d957a36ac0d2')\"\n",
              "              title=\"Convert this dataframe to an interactive table.\"\n",
              "              style=\"display:none;\">\n",
              "        \n",
              "  <svg xmlns=\"http://www.w3.org/2000/svg\" height=\"24px\"viewBox=\"0 0 24 24\"\n",
              "       width=\"24px\">\n",
              "    <path d=\"M0 0h24v24H0V0z\" fill=\"none\"/>\n",
              "    <path d=\"M18.56 5.44l.94 2.06.94-2.06 2.06-.94-2.06-.94-.94-2.06-.94 2.06-2.06.94zm-11 1L8.5 8.5l.94-2.06 2.06-.94-2.06-.94L8.5 2.5l-.94 2.06-2.06.94zm10 10l.94 2.06.94-2.06 2.06-.94-2.06-.94-.94-2.06-.94 2.06-2.06.94z\"/><path d=\"M17.41 7.96l-1.37-1.37c-.4-.4-.92-.59-1.43-.59-.52 0-1.04.2-1.43.59L10.3 9.45l-7.72 7.72c-.78.78-.78 2.05 0 2.83L4 21.41c.39.39.9.59 1.41.59.51 0 1.02-.2 1.41-.59l7.78-7.78 2.81-2.81c.8-.78.8-2.07 0-2.86zM5.41 20L4 18.59l7.72-7.72 1.47 1.35L5.41 20z\"/>\n",
              "  </svg>\n",
              "      </button>\n",
              "      \n",
              "  <style>\n",
              "    .colab-df-container {\n",
              "      display:flex;\n",
              "      flex-wrap:wrap;\n",
              "      gap: 12px;\n",
              "    }\n",
              "\n",
              "    .colab-df-convert {\n",
              "      background-color: #E8F0FE;\n",
              "      border: none;\n",
              "      border-radius: 50%;\n",
              "      cursor: pointer;\n",
              "      display: none;\n",
              "      fill: #1967D2;\n",
              "      height: 32px;\n",
              "      padding: 0 0 0 0;\n",
              "      width: 32px;\n",
              "    }\n",
              "\n",
              "    .colab-df-convert:hover {\n",
              "      background-color: #E2EBFA;\n",
              "      box-shadow: 0px 1px 2px rgba(60, 64, 67, 0.3), 0px 1px 3px 1px rgba(60, 64, 67, 0.15);\n",
              "      fill: #174EA6;\n",
              "    }\n",
              "\n",
              "    [theme=dark] .colab-df-convert {\n",
              "      background-color: #3B4455;\n",
              "      fill: #D2E3FC;\n",
              "    }\n",
              "\n",
              "    [theme=dark] .colab-df-convert:hover {\n",
              "      background-color: #434B5C;\n",
              "      box-shadow: 0px 1px 3px 1px rgba(0, 0, 0, 0.15);\n",
              "      filter: drop-shadow(0px 1px 2px rgba(0, 0, 0, 0.3));\n",
              "      fill: #FFFFFF;\n",
              "    }\n",
              "  </style>\n",
              "\n",
              "      <script>\n",
              "        const buttonEl =\n",
              "          document.querySelector('#df-47c082d6-fe11-4fdb-b6be-d957a36ac0d2 button.colab-df-convert');\n",
              "        buttonEl.style.display =\n",
              "          google.colab.kernel.accessAllowed ? 'block' : 'none';\n",
              "\n",
              "        async function convertToInteractive(key) {\n",
              "          const element = document.querySelector('#df-47c082d6-fe11-4fdb-b6be-d957a36ac0d2');\n",
              "          const dataTable =\n",
              "            await google.colab.kernel.invokeFunction('convertToInteractive',\n",
              "                                                     [key], {});\n",
              "          if (!dataTable) return;\n",
              "\n",
              "          const docLinkHtml = 'Like what you see? Visit the ' +\n",
              "            '<a target=\"_blank\" href=https://colab.research.google.com/notebooks/data_table.ipynb>data table notebook</a>'\n",
              "            + ' to learn more about interactive tables.';\n",
              "          element.innerHTML = '';\n",
              "          dataTable['output_type'] = 'display_data';\n",
              "          await google.colab.output.renderOutput(dataTable, element);\n",
              "          const docLink = document.createElement('div');\n",
              "          docLink.innerHTML = docLinkHtml;\n",
              "          element.appendChild(docLink);\n",
              "        }\n",
              "      </script>\n",
              "    </div>\n",
              "  </div>\n",
              "  "
            ]
          },
          "metadata": {},
          "execution_count": 185
        }
      ]
    },
    {
      "cell_type": "code",
      "source": [
        "data = pd.DataFrame(labels_train)\n",
        "data[1] = data[\"Diabetes_binary\"]\n",
        "data.groupby(data[\"Diabetes_binary\"]).count()"
      ],
      "metadata": {
        "id": "T-2BDSgUG6by",
        "outputId": "968f6797-ffe7-419e-e9d1-3682cd28c083",
        "colab": {
          "base_uri": "https://localhost:8080/",
          "height": 143
        }
      },
      "execution_count": null,
      "outputs": [
        {
          "output_type": "execute_result",
          "data": {
            "text/plain": [
              "                     1\n",
              "Diabetes_binary       \n",
              "0                29626\n",
              "1                29651"
            ],
            "text/html": [
              "\n",
              "  <div id=\"df-ba01a299-c1a4-429b-8bd4-857bf27add87\">\n",
              "    <div class=\"colab-df-container\">\n",
              "      <div>\n",
              "<style scoped>\n",
              "    .dataframe tbody tr th:only-of-type {\n",
              "        vertical-align: middle;\n",
              "    }\n",
              "\n",
              "    .dataframe tbody tr th {\n",
              "        vertical-align: top;\n",
              "    }\n",
              "\n",
              "    .dataframe thead th {\n",
              "        text-align: right;\n",
              "    }\n",
              "</style>\n",
              "<table border=\"1\" class=\"dataframe\">\n",
              "  <thead>\n",
              "    <tr style=\"text-align: right;\">\n",
              "      <th></th>\n",
              "      <th>1</th>\n",
              "    </tr>\n",
              "    <tr>\n",
              "      <th>Diabetes_binary</th>\n",
              "      <th></th>\n",
              "    </tr>\n",
              "  </thead>\n",
              "  <tbody>\n",
              "    <tr>\n",
              "      <th>0</th>\n",
              "      <td>29626</td>\n",
              "    </tr>\n",
              "    <tr>\n",
              "      <th>1</th>\n",
              "      <td>29651</td>\n",
              "    </tr>\n",
              "  </tbody>\n",
              "</table>\n",
              "</div>\n",
              "      <button class=\"colab-df-convert\" onclick=\"convertToInteractive('df-ba01a299-c1a4-429b-8bd4-857bf27add87')\"\n",
              "              title=\"Convert this dataframe to an interactive table.\"\n",
              "              style=\"display:none;\">\n",
              "        \n",
              "  <svg xmlns=\"http://www.w3.org/2000/svg\" height=\"24px\"viewBox=\"0 0 24 24\"\n",
              "       width=\"24px\">\n",
              "    <path d=\"M0 0h24v24H0V0z\" fill=\"none\"/>\n",
              "    <path d=\"M18.56 5.44l.94 2.06.94-2.06 2.06-.94-2.06-.94-.94-2.06-.94 2.06-2.06.94zm-11 1L8.5 8.5l.94-2.06 2.06-.94-2.06-.94L8.5 2.5l-.94 2.06-2.06.94zm10 10l.94 2.06.94-2.06 2.06-.94-2.06-.94-.94-2.06-.94 2.06-2.06.94z\"/><path d=\"M17.41 7.96l-1.37-1.37c-.4-.4-.92-.59-1.43-.59-.52 0-1.04.2-1.43.59L10.3 9.45l-7.72 7.72c-.78.78-.78 2.05 0 2.83L4 21.41c.39.39.9.59 1.41.59.51 0 1.02-.2 1.41-.59l7.78-7.78 2.81-2.81c.8-.78.8-2.07 0-2.86zM5.41 20L4 18.59l7.72-7.72 1.47 1.35L5.41 20z\"/>\n",
              "  </svg>\n",
              "      </button>\n",
              "      \n",
              "  <style>\n",
              "    .colab-df-container {\n",
              "      display:flex;\n",
              "      flex-wrap:wrap;\n",
              "      gap: 12px;\n",
              "    }\n",
              "\n",
              "    .colab-df-convert {\n",
              "      background-color: #E8F0FE;\n",
              "      border: none;\n",
              "      border-radius: 50%;\n",
              "      cursor: pointer;\n",
              "      display: none;\n",
              "      fill: #1967D2;\n",
              "      height: 32px;\n",
              "      padding: 0 0 0 0;\n",
              "      width: 32px;\n",
              "    }\n",
              "\n",
              "    .colab-df-convert:hover {\n",
              "      background-color: #E2EBFA;\n",
              "      box-shadow: 0px 1px 2px rgba(60, 64, 67, 0.3), 0px 1px 3px 1px rgba(60, 64, 67, 0.15);\n",
              "      fill: #174EA6;\n",
              "    }\n",
              "\n",
              "    [theme=dark] .colab-df-convert {\n",
              "      background-color: #3B4455;\n",
              "      fill: #D2E3FC;\n",
              "    }\n",
              "\n",
              "    [theme=dark] .colab-df-convert:hover {\n",
              "      background-color: #434B5C;\n",
              "      box-shadow: 0px 1px 3px 1px rgba(0, 0, 0, 0.15);\n",
              "      filter: drop-shadow(0px 1px 2px rgba(0, 0, 0, 0.3));\n",
              "      fill: #FFFFFF;\n",
              "    }\n",
              "  </style>\n",
              "\n",
              "      <script>\n",
              "        const buttonEl =\n",
              "          document.querySelector('#df-ba01a299-c1a4-429b-8bd4-857bf27add87 button.colab-df-convert');\n",
              "        buttonEl.style.display =\n",
              "          google.colab.kernel.accessAllowed ? 'block' : 'none';\n",
              "\n",
              "        async function convertToInteractive(key) {\n",
              "          const element = document.querySelector('#df-ba01a299-c1a4-429b-8bd4-857bf27add87');\n",
              "          const dataTable =\n",
              "            await google.colab.kernel.invokeFunction('convertToInteractive',\n",
              "                                                     [key], {});\n",
              "          if (!dataTable) return;\n",
              "\n",
              "          const docLinkHtml = 'Like what you see? Visit the ' +\n",
              "            '<a target=\"_blank\" href=https://colab.research.google.com/notebooks/data_table.ipynb>data table notebook</a>'\n",
              "            + ' to learn more about interactive tables.';\n",
              "          element.innerHTML = '';\n",
              "          dataTable['output_type'] = 'display_data';\n",
              "          await google.colab.output.renderOutput(dataTable, element);\n",
              "          const docLink = document.createElement('div');\n",
              "          docLink.innerHTML = docLinkHtml;\n",
              "          element.appendChild(docLink);\n",
              "        }\n",
              "      </script>\n",
              "    </div>\n",
              "  </div>\n",
              "  "
            ]
          },
          "metadata": {},
          "execution_count": 186
        }
      ]
    },
    {
      "cell_type": "markdown",
      "metadata": {
        "id": "soSnW4q1Rg8Z"
      },
      "source": [
        "# Actividad 4: Entrenando al árbol"
      ]
    },
    {
      "cell_type": "markdown",
      "metadata": {
        "id": "E6D1qswjRg8a"
      },
      "source": [
        "#### Lo aconsejable para las actividad 4, 5 y 6 es que asignes cada modelo a una variable diferente"
      ]
    },
    {
      "cell_type": "code",
      "execution_count": null,
      "metadata": {
        "colab": {
          "base_uri": "https://localhost:8080/"
        },
        "id": "ExrWFIZIRg8a",
        "outputId": "faed2ef8-83cd-49c3-be53-9332cc4860f0"
      },
      "outputs": [
        {
          "output_type": "execute_result",
          "data": {
            "text/plain": [
              "0.7470775770456961"
            ]
          },
          "metadata": {},
          "execution_count": 174
        }
      ],
      "source": [
        "from scipy.sparse.construct import random\n",
        "# Escribe tu código aquí. Puedes crear todas las celdas que consideres necesario.\n",
        "from sklearn.tree import DecisionTreeClassifier\n",
        "\n",
        "clf = DecisionTreeClassifier(criterion=\"gini\",splitter=\"best\", max_features=0.9 ,random_state=random_state, ccp_alpha=0.0001) # \n",
        "# clf = DecisionTreeClassifier(criterion=\"gini\",splitter=\"best\" ,random_state=random_state, ccp_alpha=0.0001) # 0.7457112494306968\n",
        "\n",
        "clf.fit(diabetes_train, labels_train)\n",
        "\n",
        "predicted_label = clf.predict(diabetes_test)\n",
        "\n",
        "clf.score(diabetes_test, labels_test)"
      ]
    },
    {
      "cell_type": "code",
      "source": [
        "from sklearn.metrics import recall_score, precision_score\n",
        "\n",
        "recall_score(labels_test, predicted_label)"
      ],
      "metadata": {
        "colab": {
          "base_uri": "https://localhost:8080/"
        },
        "id": "Ab_fwhJoxktB",
        "outputId": "9d5180fa-3f7c-4677-80dd-d50308e13be3"
      },
      "execution_count": null,
      "outputs": [
        {
          "output_type": "execute_result",
          "data": {
            "text/plain": [
              "0.7477996965098634"
            ]
          },
          "metadata": {},
          "execution_count": 175
        }
      ]
    },
    {
      "cell_type": "markdown",
      "source": [
        "Recall score mide la cantidad de positivos detectados dentro de todos los positivos, lo que significa en este caso las personas con diabtes detectadas dentro de todas las personas con diabetes.\n",
        "\n",
        "Esto es importante ya que indica que tan efectivo es el clasificador para reconocer que una persona con la enfermedad la posee y poder advertirle de ella."
      ],
      "metadata": {
        "id": "LD33U5kAyebc"
      }
    },
    {
      "cell_type": "code",
      "source": [
        "precision_score(labels_test, predicted_label)"
      ],
      "metadata": {
        "colab": {
          "base_uri": "https://localhost:8080/"
        },
        "id": "MMpcqxjayZFY",
        "outputId": "95da2ce4-d39b-4110-d630-19dafaa59748"
      },
      "execution_count": null,
      "outputs": [
        {
          "output_type": "execute_result",
          "data": {
            "text/plain": [
              "0.7468929978781449"
            ]
          },
          "metadata": {},
          "execution_count": 176
        }
      ]
    },
    {
      "cell_type": "markdown",
      "source": [
        "Por otro lado , presicion score mide el porcentaje de positivos asignados correctamente dentro de todos los positivos asignados. \n",
        "\n",
        "Esto es importante ya que representa la precision del clasificador a la hora de diagnosticar una persona con diabetes."
      ],
      "metadata": {
        "id": "Lg32U858zfqO"
      }
    },
    {
      "cell_type": "markdown",
      "metadata": {
        "id": "PU8-iIrnRg8a"
      },
      "source": [
        "# Actividad 5: Ensamblaje simple"
      ]
    },
    {
      "cell_type": "code",
      "execution_count": null,
      "metadata": {
        "id": "Jp0NlCyeRg8b"
      },
      "outputs": [],
      "source": [
        "# Escribe tu código aquí. Puedes crear todas las celdas que consideres necesario.\n",
        "\n",
        "class BosqueAleatorio():\n",
        "    pass\n"
      ]
    },
    {
      "cell_type": "markdown",
      "metadata": {
        "id": "OYJ1bSn9Rg8b"
      },
      "source": [
        "# Actividad 6: Random forest real"
      ]
    },
    {
      "cell_type": "code",
      "execution_count": null,
      "metadata": {
        "colab": {
          "base_uri": "https://localhost:8080/"
        },
        "id": "eVqemBXORg8b",
        "outputId": "1abe2e93-e2bd-4799-c369-11d62b672f4d"
      },
      "outputs": [
        {
          "output_type": "execute_result",
          "data": {
            "text/plain": [
              "0.7405495673295885"
            ]
          },
          "metadata": {},
          "execution_count": 180
        }
      ],
      "source": [
        "# Escribe tu código aquí. Puedes crear todas las celdas que consideres necesario.\n",
        "\n",
        "from sklearn.ensemble import RandomForestClassifier\n",
        "\n",
        "randomForest = RandomForestClassifier(random_state=random_state)\n",
        "\n",
        "randomForest.fit(diabetes_train, labels_train)\n",
        "\n",
        "predicted_label_rf = randomForest.predict(diabetes_test)\n",
        "\n",
        "randomForest.score(diabetes_test, labels_test)"
      ]
    },
    {
      "cell_type": "code",
      "source": [
        "recall_score(labels_test, predicted_label_rf)"
      ],
      "metadata": {
        "colab": {
          "base_uri": "https://localhost:8080/"
        },
        "id": "L4f1n25K2cbP",
        "outputId": "8b49514e-46c4-48d5-a78a-9427068a975a"
      },
      "execution_count": null,
      "outputs": [
        {
          "output_type": "execute_result",
          "data": {
            "text/plain": [
              "0.7784522003034902"
            ]
          },
          "metadata": {},
          "execution_count": 181
        }
      ]
    },
    {
      "cell_type": "code",
      "source": [
        "precision_score(labels_test, predicted_label_rf)"
      ],
      "metadata": {
        "colab": {
          "base_uri": "https://localhost:8080/"
        },
        "id": "9GkhPGgM2fcM",
        "outputId": "85f89f25-9628-4b96-c85b-2871ba48ee30"
      },
      "execution_count": null,
      "outputs": [
        {
          "output_type": "execute_result",
          "data": {
            "text/plain": [
              "0.7237584650112867"
            ]
          },
          "metadata": {},
          "execution_count": 183
        }
      ]
    }
  ],
  "metadata": {
    "kernelspec": {
      "display_name": "Python 3.8.2 64-bit",
      "language": "python",
      "name": "python3"
    },
    "language_info": {
      "codemirror_mode": {
        "name": "ipython",
        "version": 3
      },
      "file_extension": ".py",
      "mimetype": "text/x-python",
      "name": "python",
      "nbconvert_exporter": "python",
      "pygments_lexer": "ipython3",
      "version": "3.8.2"
    },
    "orig_nbformat": 4,
    "vscode": {
      "interpreter": {
        "hash": "233f38ab3ba4939c47bedbad48e66af57e58042d634f0cc19ff34a682283047e"
      }
    },
    "colab": {
      "provenance": []
    }
  },
  "nbformat": 4,
  "nbformat_minor": 0
}